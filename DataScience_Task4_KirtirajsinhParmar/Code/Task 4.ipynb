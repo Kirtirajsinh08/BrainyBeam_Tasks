{
 "cells": [
  {
   "cell_type": "markdown",
   "id": "4e1d8bea",
   "metadata": {},
   "source": [
    "# TASK 4"
   ]
  },
  {
   "cell_type": "code",
   "execution_count": 1,
   "id": "1c92f02b",
   "metadata": {},
   "outputs": [],
   "source": [
    "# Customize Matplotlib plots with interactive widgets (e.g., sliders, buttons) using libraries like ipywidgets."
   ]
  },
  {
   "cell_type": "code",
   "execution_count": 2,
   "id": "34b8bf30",
   "metadata": {},
   "outputs": [],
   "source": [
    "import pandas as pd\n",
    "import numpy as np"
   ]
  },
  {
   "cell_type": "code",
   "execution_count": 3,
   "id": "e7e464e8",
   "metadata": {},
   "outputs": [
    {
     "data": {
      "text/html": [
       "<div>\n",
       "<style scoped>\n",
       "    .dataframe tbody tr th:only-of-type {\n",
       "        vertical-align: middle;\n",
       "    }\n",
       "\n",
       "    .dataframe tbody tr th {\n",
       "        vertical-align: top;\n",
       "    }\n",
       "\n",
       "    .dataframe thead th {\n",
       "        text-align: right;\n",
       "    }\n",
       "</style>\n",
       "<table border=\"1\" class=\"dataframe\">\n",
       "  <thead>\n",
       "    <tr style=\"text-align: right;\">\n",
       "      <th></th>\n",
       "      <th>Region</th>\n",
       "      <th>Country</th>\n",
       "      <th>Item_Type</th>\n",
       "      <th>Sales_Channel</th>\n",
       "      <th>Order_Priority</th>\n",
       "      <th>Ship_Date</th>\n",
       "      <th>Unit_Cost</th>\n",
       "      <th>Total_Revenue</th>\n",
       "      <th>Total_Profit</th>\n",
       "      <th>Unnamed: 9</th>\n",
       "      <th>Unnamed: 10</th>\n",
       "    </tr>\n",
       "  </thead>\n",
       "  <tbody>\n",
       "    <tr>\n",
       "      <th>0</th>\n",
       "      <td>Australia and Oceania</td>\n",
       "      <td>Tuvalu</td>\n",
       "      <td>Baby Food</td>\n",
       "      <td>Offline</td>\n",
       "      <td>H</td>\n",
       "      <td>27/06/2010</td>\n",
       "      <td>159.42</td>\n",
       "      <td>2533654.00</td>\n",
       "      <td>951410.50</td>\n",
       "      <td>NaN</td>\n",
       "      <td>NaN</td>\n",
       "    </tr>\n",
       "    <tr>\n",
       "      <th>1</th>\n",
       "      <td>Central America and the Caribbean</td>\n",
       "      <td>Grenada</td>\n",
       "      <td>Cereal</td>\n",
       "      <td>Online</td>\n",
       "      <td>C</td>\n",
       "      <td>15/09/2012</td>\n",
       "      <td>117.11</td>\n",
       "      <td>576782.80</td>\n",
       "      <td>248406.36</td>\n",
       "      <td>NaN</td>\n",
       "      <td>NaN</td>\n",
       "    </tr>\n",
       "    <tr>\n",
       "      <th>2</th>\n",
       "      <td>Europe</td>\n",
       "      <td>Russia</td>\n",
       "      <td>Office Supplies</td>\n",
       "      <td>Offline</td>\n",
       "      <td>L</td>\n",
       "      <td>05/08/2014</td>\n",
       "      <td>524.96</td>\n",
       "      <td>1158502.59</td>\n",
       "      <td>224598.75</td>\n",
       "      <td>NaN</td>\n",
       "      <td>NaN</td>\n",
       "    </tr>\n",
       "    <tr>\n",
       "      <th>3</th>\n",
       "      <td>Sub_Saharan Africa</td>\n",
       "      <td>Sao Tome and Principe</td>\n",
       "      <td>Fruits</td>\n",
       "      <td>Online</td>\n",
       "      <td>C</td>\n",
       "      <td>07/05/2014</td>\n",
       "      <td>6.92</td>\n",
       "      <td>75591.66</td>\n",
       "      <td>19525.82</td>\n",
       "      <td>NaN</td>\n",
       "      <td>NaN</td>\n",
       "    </tr>\n",
       "    <tr>\n",
       "      <th>4</th>\n",
       "      <td>Sub_Saharan Africa</td>\n",
       "      <td>Rwanda</td>\n",
       "      <td>Office Supplies</td>\n",
       "      <td>Offline</td>\n",
       "      <td>L</td>\n",
       "      <td>02/06/2013</td>\n",
       "      <td>524.96</td>\n",
       "      <td>3296425.02</td>\n",
       "      <td>639077.50</td>\n",
       "      <td>NaN</td>\n",
       "      <td>NaN</td>\n",
       "    </tr>\n",
       "  </tbody>\n",
       "</table>\n",
       "</div>"
      ],
      "text/plain": [
       "                              Region                Country        Item_Type  \\\n",
       "0              Australia and Oceania                 Tuvalu        Baby Food   \n",
       "1  Central America and the Caribbean                Grenada           Cereal   \n",
       "2                             Europe                 Russia  Office Supplies   \n",
       "3                 Sub_Saharan Africa  Sao Tome and Principe           Fruits   \n",
       "4                 Sub_Saharan Africa                 Rwanda  Office Supplies   \n",
       "\n",
       "  Sales_Channel Order_Priority   Ship_Date  Unit_Cost  Total_Revenue  \\\n",
       "0       Offline              H  27/06/2010     159.42     2533654.00   \n",
       "1        Online              C  15/09/2012     117.11      576782.80   \n",
       "2       Offline              L  05/08/2014     524.96     1158502.59   \n",
       "3        Online              C  07/05/2014       6.92       75591.66   \n",
       "4       Offline              L  02/06/2013     524.96     3296425.02   \n",
       "\n",
       "   Total_Profit  Unnamed: 9  Unnamed: 10  \n",
       "0     951410.50         NaN          NaN  \n",
       "1     248406.36         NaN          NaN  \n",
       "2     224598.75         NaN          NaN  \n",
       "3      19525.82         NaN          NaN  \n",
       "4     639077.50         NaN          NaN  "
      ]
     },
     "execution_count": 3,
     "metadata": {},
     "output_type": "execute_result"
    }
   ],
   "source": [
    "df = pd.read_csv(\"100_Sales.csv\")\n",
    "df.head()"
   ]
  },
  {
   "cell_type": "code",
   "execution_count": 4,
   "id": "a87082ce",
   "metadata": {},
   "outputs": [
    {
     "data": {
      "text/html": [
       "<div>\n",
       "<style scoped>\n",
       "    .dataframe tbody tr th:only-of-type {\n",
       "        vertical-align: middle;\n",
       "    }\n",
       "\n",
       "    .dataframe tbody tr th {\n",
       "        vertical-align: top;\n",
       "    }\n",
       "\n",
       "    .dataframe thead th {\n",
       "        text-align: right;\n",
       "    }\n",
       "</style>\n",
       "<table border=\"1\" class=\"dataframe\">\n",
       "  <thead>\n",
       "    <tr style=\"text-align: right;\">\n",
       "      <th></th>\n",
       "      <th>Region</th>\n",
       "      <th>Country</th>\n",
       "      <th>Item_Type</th>\n",
       "      <th>Sales_Channel</th>\n",
       "      <th>Order_Priority</th>\n",
       "      <th>Ship_Date</th>\n",
       "      <th>Unit_Cost</th>\n",
       "      <th>Total_Revenue</th>\n",
       "      <th>Total_Profit</th>\n",
       "    </tr>\n",
       "  </thead>\n",
       "  <tbody>\n",
       "    <tr>\n",
       "      <th>31</th>\n",
       "      <td>Sub_Saharan Africa</td>\n",
       "      <td>South Sudan</td>\n",
       "      <td>Personal Care</td>\n",
       "      <td>Offline</td>\n",
       "      <td>C</td>\n",
       "      <td>28/01/2014</td>\n",
       "      <td>56.67</td>\n",
       "      <td>173676.25</td>\n",
       "      <td>53252.50</td>\n",
       "    </tr>\n",
       "    <tr>\n",
       "      <th>2</th>\n",
       "      <td>Europe</td>\n",
       "      <td>Russia</td>\n",
       "      <td>Office Supplies</td>\n",
       "      <td>Offline</td>\n",
       "      <td>L</td>\n",
       "      <td>05/08/2014</td>\n",
       "      <td>524.96</td>\n",
       "      <td>1158502.59</td>\n",
       "      <td>224598.75</td>\n",
       "    </tr>\n",
       "    <tr>\n",
       "      <th>90</th>\n",
       "      <td>Sub_Saharan Africa</td>\n",
       "      <td>Sierra Leone</td>\n",
       "      <td>Office Supplies</td>\n",
       "      <td>Offline</td>\n",
       "      <td>H</td>\n",
       "      <td>14/12/2016</td>\n",
       "      <td>524.96</td>\n",
       "      <td>617347.08</td>\n",
       "      <td>119685.00</td>\n",
       "    </tr>\n",
       "    <tr>\n",
       "      <th>28</th>\n",
       "      <td>Europe</td>\n",
       "      <td>Norway</td>\n",
       "      <td>Beverages</td>\n",
       "      <td>Offline</td>\n",
       "      <td>C</td>\n",
       "      <td>30/07/2014</td>\n",
       "      <td>31.79</td>\n",
       "      <td>243133.80</td>\n",
       "      <td>80241.84</td>\n",
       "    </tr>\n",
       "    <tr>\n",
       "      <th>41</th>\n",
       "      <td>Middle East and North Africa</td>\n",
       "      <td>Azerbaijan</td>\n",
       "      <td>Cosmetics</td>\n",
       "      <td>Online</td>\n",
       "      <td>M</td>\n",
       "      <td>25/02/2010</td>\n",
       "      <td>263.33</td>\n",
       "      <td>3162704.80</td>\n",
       "      <td>1257775.58</td>\n",
       "    </tr>\n",
       "  </tbody>\n",
       "</table>\n",
       "</div>"
      ],
      "text/plain": [
       "                          Region       Country        Item_Type Sales_Channel  \\\n",
       "31            Sub_Saharan Africa   South Sudan    Personal Care       Offline   \n",
       "2                         Europe        Russia  Office Supplies       Offline   \n",
       "90            Sub_Saharan Africa  Sierra Leone  Office Supplies       Offline   \n",
       "28                        Europe        Norway        Beverages       Offline   \n",
       "41  Middle East and North Africa    Azerbaijan        Cosmetics        Online   \n",
       "\n",
       "   Order_Priority   Ship_Date  Unit_Cost  Total_Revenue  Total_Profit  \n",
       "31              C  28/01/2014      56.67      173676.25      53252.50  \n",
       "2               L  05/08/2014     524.96     1158502.59     224598.75  \n",
       "90              H  14/12/2016     524.96      617347.08     119685.00  \n",
       "28              C  30/07/2014      31.79      243133.80      80241.84  \n",
       "41              M  25/02/2010     263.33     3162704.80    1257775.58  "
      ]
     },
     "execution_count": 4,
     "metadata": {},
     "output_type": "execute_result"
    }
   ],
   "source": [
    "df = df.drop(columns=[\"Unnamed: 9\", \"Unnamed: 10\"], axis=1)\n",
    "df.sample(5)"
   ]
  },
  {
   "cell_type": "code",
   "execution_count": 5,
   "id": "a08379d0",
   "metadata": {},
   "outputs": [
    {
     "name": "stdout",
     "output_type": "stream",
     "text": [
      "<class 'pandas.core.frame.DataFrame'>\n",
      "RangeIndex: 100 entries, 0 to 99\n",
      "Data columns (total 9 columns):\n",
      " #   Column          Non-Null Count  Dtype  \n",
      "---  ------          --------------  -----  \n",
      " 0   Region          100 non-null    object \n",
      " 1   Country         100 non-null    object \n",
      " 2   Item_Type       100 non-null    object \n",
      " 3   Sales_Channel   100 non-null    object \n",
      " 4   Order_Priority  100 non-null    object \n",
      " 5   Ship_Date       100 non-null    object \n",
      " 6   Unit_Cost       100 non-null    float64\n",
      " 7   Total_Revenue   100 non-null    float64\n",
      " 8   Total_Profit    100 non-null    float64\n",
      "dtypes: float64(3), object(6)\n",
      "memory usage: 7.2+ KB\n"
     ]
    }
   ],
   "source": [
    "df.info()"
   ]
  },
  {
   "cell_type": "code",
   "execution_count": 6,
   "id": "ed9ebcef",
   "metadata": {},
   "outputs": [
    {
     "name": "stdout",
     "output_type": "stream",
     "text": [
      "<class 'pandas.core.frame.DataFrame'>\n",
      "RangeIndex: 100 entries, 0 to 99\n",
      "Data columns (total 9 columns):\n",
      " #   Column          Non-Null Count  Dtype         \n",
      "---  ------          --------------  -----         \n",
      " 0   Region          100 non-null    object        \n",
      " 1   Country         100 non-null    object        \n",
      " 2   Item_Type       100 non-null    object        \n",
      " 3   Sales_Channel   100 non-null    object        \n",
      " 4   Order_Priority  100 non-null    object        \n",
      " 5   Ship_Date       100 non-null    datetime64[ns]\n",
      " 6   Unit_Cost       100 non-null    float64       \n",
      " 7   Total_Revenue   100 non-null    float64       \n",
      " 8   Total_Profit    100 non-null    float64       \n",
      "dtypes: datetime64[ns](1), float64(3), object(5)\n",
      "memory usage: 7.2+ KB\n"
     ]
    }
   ],
   "source": [
    "# Converting String to Date Data-type\n",
    "df[\"Ship_Date\"] = pd.to_datetime(df[\"Ship_Date\"], format=\"%d/%m/%Y\")\n",
    "df.info()"
   ]
  },
  {
   "cell_type": "code",
   "execution_count": 7,
   "id": "130112e1",
   "metadata": {},
   "outputs": [],
   "source": [
    "import ipywidgets as widgets\n",
    "from ipywidgets import interact\n",
    "import matplotlib.pyplot as plt"
   ]
  },
  {
   "cell_type": "markdown",
   "id": "b0049526",
   "metadata": {},
   "source": [
    "# Filtering Data Using Dropdown"
   ]
  },
  {
   "cell_type": "code",
   "execution_count": 8,
   "id": "6dd0ee67",
   "metadata": {},
   "outputs": [
    {
     "data": {
      "application/vnd.jupyter.widget-view+json": {
       "model_id": "3ebdda7efdc440feac3b060c8c54bb8a",
       "version_major": 2,
       "version_minor": 0
      },
      "text/plain": [
       "interactive(children=(Dropdown(description='Region:', options=('Australia and Oceania', 'Central America and t…"
      ]
     },
     "metadata": {},
     "output_type": "display_data"
    },
    {
     "data": {
      "text/plain": [
       "<function __main__.display_filtered_data(region, item_type, sales_channel)>"
      ]
     },
     "execution_count": 8,
     "metadata": {},
     "output_type": "execute_result"
    }
   ],
   "source": [
    "# Filtering and Getting Desired Data\n",
    "def display_filtered_data(region, item_type, sales_channel):\n",
    "    filtered_df = df[\n",
    "        (df[\"Region\"] == region) &\n",
    "        (df[\"Item_Type\"] == item_type) &\n",
    "        (df[\"Sales_Channel\"] == sales_channel)\n",
    "    ]\n",
    "    display(filtered_df)\n",
    "    print(f\"Total Profit for filtered data: {filtered_df['Total_Profit'].sum():,.2f}\")\n",
    "    print(f\"Total Profit for filtered data: {filtered_df['Total_Revenue'].sum():,.2f}\")\n",
    "    \n",
    "region_dropdown = widgets.Dropdown(options=df[\"Region\"].unique(), description=\"Region:\")\n",
    "item_dropdown = widgets.Dropdown(options=df[\"Item_Type\"].unique(), description=\"Item Type:\")\n",
    "channel_dropdown = widgets.Dropdown(options=df[\"Sales_Channel\"].unique(), description=\"Channel:\")\n",
    "\n",
    "interact(display_filtered_data, region=region_dropdown, item_type=item_dropdown, sales_channel=channel_dropdown)"
   ]
  },
  {
   "cell_type": "markdown",
   "id": "c0bccfe5",
   "metadata": {},
   "source": [
    "# Bar Graph Profit v/s Region (Select Region of Choice Using Dropdown)"
   ]
  },
  {
   "cell_type": "code",
   "execution_count": 9,
   "id": "d5f8e8e8",
   "metadata": {},
   "outputs": [
    {
     "data": {
      "application/vnd.jupyter.widget-view+json": {
       "model_id": "e3c7347e30cb46dd9aacb6a82c2a9231",
       "version_major": 2,
       "version_minor": 0
      },
      "text/plain": [
       "interactive(children=(Dropdown(description='Region:', options=(None, 'Australia and Oceania', 'Central America…"
      ]
     },
     "metadata": {},
     "output_type": "display_data"
    }
   ],
   "source": [
    "# Bar graph according to region\n",
    "def plot_profit_by_region(region=None):\n",
    "    if region:\n",
    "        filtered_df = df[df['Region'] == region]\n",
    "    else:\n",
    "        filtered_df = df\n",
    "    \n",
    "    profit_by_country = filtered_df.groupby('Country')['Total_Profit'].sum().sort_values(ascending=False)\n",
    "    plt.figure(figsize=(20, 6))\n",
    "    profit_by_country.plot(kind='bar', color='blue')\n",
    "    plt.title(f\"Total Profit by Country {'for ' + region if region else ''}\")\n",
    "    plt.xlabel('Country')\n",
    "    plt.ylabel('Total Profit')\n",
    "    plt.xticks(rotation=90)\n",
    "    plt.show()\n",
    "\n",
    "region_selector = widgets.Dropdown(options=[None] + list(df['Region'].unique()), description=\"Region:\")\n",
    "\n",
    "interact(plot_profit_by_region, region=region_selector);"
   ]
  },
  {
   "cell_type": "markdown",
   "id": "c908e753",
   "metadata": {},
   "source": [
    "# Scatter Plot Profit v/s Cost Range (Select Range Using Slider)"
   ]
  },
  {
   "cell_type": "code",
   "execution_count": 10,
   "id": "f770791e",
   "metadata": {},
   "outputs": [
    {
     "data": {
      "application/vnd.jupyter.widget-view+json": {
       "model_id": "e325f9bee6254d0dac0706f2cc644c85",
       "version_major": 2,
       "version_minor": 0
      },
      "text/plain": [
       "interactive(children=(FloatRangeSlider(value=(0.0, 600.0), description='Unit Cost:', max=600.0, step=10.0), Ou…"
      ]
     },
     "metadata": {},
     "output_type": "display_data"
    }
   ],
   "source": [
    "# \n",
    "def plot_profit_vs_revenue(cost_range):\n",
    "    min_cost, max_cost = cost_range\n",
    "    \n",
    "    filtered_df = df[(df['Unit_Cost'] >= min_cost) & (df['Unit_Cost'] <= max_cost)]\n",
    "    \n",
    "    plt.figure(figsize=(10, 6))\n",
    "    plt.scatter(filtered_df['Total_Revenue'], filtered_df['Total_Profit'], c='red')\n",
    "    plt.title(f\"Total Revenue vs Total Profit (Unit Cost: {min_cost}-{max_cost})\")\n",
    "    plt.xlabel('Total Revenue')\n",
    "    plt.ylabel('Total Profit')\n",
    "    plt.grid(True)\n",
    "    plt.show()\n",
    "\n",
    "cost_slider = widgets.FloatRangeSlider(value=[0, 600], min=0, max=600, step=10, description='Unit Cost:')\n",
    "\n",
    "interact(plot_profit_vs_revenue, cost_range=cost_slider);"
   ]
  },
  {
   "cell_type": "code",
   "execution_count": null,
   "id": "210ffdba",
   "metadata": {},
   "outputs": [],
   "source": []
  }
 ],
 "metadata": {
  "kernelspec": {
   "display_name": "Python 3 (ipykernel)",
   "language": "python",
   "name": "python3"
  },
  "language_info": {
   "codemirror_mode": {
    "name": "ipython",
    "version": 3
   },
   "file_extension": ".py",
   "mimetype": "text/x-python",
   "name": "python",
   "nbconvert_exporter": "python",
   "pygments_lexer": "ipython3",
   "version": "3.11.5"
  }
 },
 "nbformat": 4,
 "nbformat_minor": 5
}
