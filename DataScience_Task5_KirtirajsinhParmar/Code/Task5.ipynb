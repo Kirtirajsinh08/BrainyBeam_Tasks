{
 "cells": [
  {
   "cell_type": "markdown",
   "id": "9995bcc8",
   "metadata": {},
   "source": [
    "# TASK 5"
   ]
  },
  {
   "cell_type": "code",
   "execution_count": 1,
   "id": "23d2e234",
   "metadata": {},
   "outputs": [],
   "source": [
    "# Implement matrix exponentiation for a square matrix using numpy."
   ]
  },
  {
   "cell_type": "code",
   "execution_count": 2,
   "id": "48108113",
   "metadata": {},
   "outputs": [],
   "source": [
    "import numpy as np"
   ]
  },
  {
   "cell_type": "code",
   "execution_count": 3,
   "id": "291a09f4",
   "metadata": {},
   "outputs": [],
   "source": [
    "def exponentiaon_of_matrix(given_matrix, power):\n",
    "    if power == 0:\n",
    "        return np.eye(given_matrix.shape[0])\n",
    "    \n",
    "    if power == 1:\n",
    "        return given_matrix\n",
    "    \n",
    "    result_matrix = np.eye(given_matrix.shape[0])\n",
    "    \n",
    "    base_matrix = given_matrix.copy()\n",
    "    \n",
    "    while power > 0:\n",
    "        if power % 2 == 1:\n",
    "            result_matrix = np.dot(result_matrix, base_matrix)\n",
    "            \n",
    "        base_matrix = np.dot(base_matrix, base_matrix)\n",
    "        power = power // 2\n",
    "        \n",
    "    return result_matrix"
   ]
  },
  {
   "cell_type": "code",
   "execution_count": 4,
   "id": "68280a23",
   "metadata": {},
   "outputs": [
    {
     "name": "stdout",
     "output_type": "stream",
     "text": [
      "Enter size for the square matrix: 3\n",
      "Enter the values for 3x3 matrix: \n",
      "Enter value for position (1, 1): 1\n",
      "Enter value for position (1, 2): 2\n",
      "Enter value for position (1, 3): 3\n",
      "Enter value for position (2, 1): 4\n",
      "Enter value for position (2, 2): 5\n",
      "Enter value for position (2, 3): 6\n",
      "Enter value for position (3, 1): 7\n",
      "Enter value for position (3, 2): 8\n",
      "Enter value for position (3, 3): 9\n",
      "Enter the power for exponentiation: 2\n",
      "\n",
      " Matrix with exponentiation 2 is: \n",
      "[[ 30.  36.  42.]\n",
      " [ 66.  81.  96.]\n",
      " [102. 126. 150.]]\n"
     ]
    }
   ],
   "source": [
    "size = int(input(\"Enter size for the square matrix: \"))\n",
    "matrix_values = []\n",
    "\n",
    "print(f\"Enter the values for {size}x{size} matrix: \")\n",
    "\n",
    "for i in range(size):\n",
    "    row = []\n",
    "    \n",
    "    for j in range(size):\n",
    "        value = float(input(f\"Enter value for position ({i+1}, {j+1}): \"))\n",
    "        row.append(value)\n",
    "        \n",
    "    matrix_values.append(row)\n",
    "\n",
    "given_matrix = np.array(matrix_values)\n",
    "power = int(input(\"Enter the power for exponentiation: \"))\n",
    "\n",
    "result_matrix = exponentiaon_of_matrix(given_matrix, power)\n",
    "\n",
    "print(f\"\\n Matrix with exponentiation {power} is: \")\n",
    "print(result_matrix)"
   ]
  },
  {
   "cell_type": "code",
   "execution_count": null,
   "id": "90cc7986",
   "metadata": {},
   "outputs": [],
   "source": []
  },
  {
   "cell_type": "code",
   "execution_count": null,
   "id": "fd51eea2",
   "metadata": {},
   "outputs": [],
   "source": []
  }
 ],
 "metadata": {
  "kernelspec": {
   "display_name": "Python 3 (ipykernel)",
   "language": "python",
   "name": "python3"
  },
  "language_info": {
   "codemirror_mode": {
    "name": "ipython",
    "version": 3
   },
   "file_extension": ".py",
   "mimetype": "text/x-python",
   "name": "python",
   "nbconvert_exporter": "python",
   "pygments_lexer": "ipython3",
   "version": "3.11.5"
  }
 },
 "nbformat": 4,
 "nbformat_minor": 5
}
