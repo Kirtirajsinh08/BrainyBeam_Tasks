{
 "cells": [
  {
   "cell_type": "markdown",
   "id": "4e1d8bea",
   "metadata": {},
   "source": [
    "# TASK 4"
   ]
  },
  {
   "cell_type": "code",
   "execution_count": 1,
   "id": "1c92f02b",
   "metadata": {},
   "outputs": [],
   "source": [
    "# Customize Matplotlib plots with interactive widgets (e.g., sliders, buttons) using libraries like ipywidgets."
   ]
  },
  {
   "cell_type": "code",
   "execution_count": 2,
   "id": "34b8bf30",
   "metadata": {},
   "outputs": [],
   "source": [
    "import pandas as pd\n",
    "import numpy as np"
   ]
  },
  {
   "cell_type": "code",
   "execution_count": 3,
   "id": "e7e464e8",
   "metadata": {},
   "outputs": [
    {
     "data": {
      "text/html": [
       "<div>\n",
       "<style scoped>\n",
       "    .dataframe tbody tr th:only-of-type {\n",
       "        vertical-align: middle;\n",
       "    }\n",
       "\n",
       "    .dataframe tbody tr th {\n",
       "        vertical-align: top;\n",
       "    }\n",
       "\n",
       "    .dataframe thead th {\n",
       "        text-align: right;\n",
       "    }\n",
       "</style>\n",
       "<table border=\"1\" class=\"dataframe\">\n",
       "  <thead>\n",
       "    <tr style=\"text-align: right;\">\n",
       "      <th></th>\n",
       "      <th>Region</th>\n",
       "      <th>Country</th>\n",
       "      <th>Item_Type</th>\n",
       "      <th>Sales_Channel</th>\n",
       "      <th>Order_Priority</th>\n",
       "      <th>Ship_Date</th>\n",
       "      <th>Unit_Cost</th>\n",
       "      <th>Total_Revenue</th>\n",
       "      <th>Total_Profit</th>\n",
       "      <th>Unnamed: 9</th>\n",
       "      <th>Unnamed: 10</th>\n",
       "    </tr>\n",
       "  </thead>\n",
       "  <tbody>\n",
       "    <tr>\n",
       "      <th>0</th>\n",
       "      <td>Australia and Oceania</td>\n",
       "      <td>Tuvalu</td>\n",
       "      <td>Baby Food</td>\n",
       "      <td>Offline</td>\n",
       "      <td>H</td>\n",
       "      <td>27/06/2010</td>\n",
       "      <td>159.42</td>\n",
       "      <td>2533654.00</td>\n",
       "      <td>951410.50</td>\n",
       "      <td>NaN</td>\n",
       "      <td>NaN</td>\n",
       "    </tr>\n",
       "    <tr>\n",
       "      <th>1</th>\n",
       "      <td>Central America and the Caribbean</td>\n",
       "      <td>Grenada</td>\n",
       "      <td>Cereal</td>\n",
       "      <td>Online</td>\n",
       "      <td>C</td>\n",
       "      <td>15/09/2012</td>\n",
       "      <td>117.11</td>\n",
       "      <td>576782.80</td>\n",
       "      <td>248406.36</td>\n",
       "      <td>NaN</td>\n",
       "      <td>NaN</td>\n",
       "    </tr>\n",
       "    <tr>\n",
       "      <th>2</th>\n",
       "      <td>Europe</td>\n",
       "      <td>Russia</td>\n",
       "      <td>Office Supplies</td>\n",
       "      <td>Offline</td>\n",
       "      <td>L</td>\n",
       "      <td>05/08/2014</td>\n",
       "      <td>524.96</td>\n",
       "      <td>1158502.59</td>\n",
       "      <td>224598.75</td>\n",
       "      <td>NaN</td>\n",
       "      <td>NaN</td>\n",
       "    </tr>\n",
       "    <tr>\n",
       "      <th>3</th>\n",
       "      <td>Sub_Saharan Africa</td>\n",
       "      <td>Sao Tome and Principe</td>\n",
       "      <td>Fruits</td>\n",
       "      <td>Online</td>\n",
       "      <td>C</td>\n",
       "      <td>07/05/2014</td>\n",
       "      <td>6.92</td>\n",
       "      <td>75591.66</td>\n",
       "      <td>19525.82</td>\n",
       "      <td>NaN</td>\n",
       "      <td>NaN</td>\n",
       "    </tr>\n",
       "    <tr>\n",
       "      <th>4</th>\n",
       "      <td>Sub_Saharan Africa</td>\n",
       "      <td>Rwanda</td>\n",
       "      <td>Office Supplies</td>\n",
       "      <td>Offline</td>\n",
       "      <td>L</td>\n",
       "      <td>02/06/2013</td>\n",
       "      <td>524.96</td>\n",
       "      <td>3296425.02</td>\n",
       "      <td>639077.50</td>\n",
       "      <td>NaN</td>\n",
       "      <td>NaN</td>\n",
       "    </tr>\n",
       "  </tbody>\n",
       "</table>\n",
       "</div>"
      ],
      "text/plain": [
       "                              Region                Country        Item_Type  \\\n",
       "0              Australia and Oceania                 Tuvalu        Baby Food   \n",
       "1  Central America and the Caribbean                Grenada           Cereal   \n",
       "2                             Europe                 Russia  Office Supplies   \n",
       "3                 Sub_Saharan Africa  Sao Tome and Principe           Fruits   \n",
       "4                 Sub_Saharan Africa                 Rwanda  Office Supplies   \n",
       "\n",
       "  Sales_Channel Order_Priority   Ship_Date  Unit_Cost  Total_Revenue  \\\n",
       "0       Offline              H  27/06/2010     159.42     2533654.00   \n",
       "1        Online              C  15/09/2012     117.11      576782.80   \n",
       "2       Offline              L  05/08/2014     524.96     1158502.59   \n",
       "3        Online              C  07/05/2014       6.92       75591.66   \n",
       "4       Offline              L  02/06/2013     524.96     3296425.02   \n",
       "\n",
       "   Total_Profit  Unnamed: 9  Unnamed: 10  \n",
       "0     951410.50         NaN          NaN  \n",
       "1     248406.36         NaN          NaN  \n",
       "2     224598.75         NaN          NaN  \n",
       "3      19525.82         NaN          NaN  \n",
       "4     639077.50         NaN          NaN  "
      ]
     },
     "execution_count": 3,
     "metadata": {},
     "output_type": "execute_result"
    }
   ],
   "source": [
    "df = pd.read_csv(\"100_Sales.csv\")\n",
    "df.head()"
   ]
  },
  {
   "cell_type": "code",
   "execution_count": 4,
   "id": "a87082ce",
   "metadata": {},
   "outputs": [
    {
     "data": {
      "text/html": [
       "<div>\n",
       "<style scoped>\n",
       "    .dataframe tbody tr th:only-of-type {\n",
       "        vertical-align: middle;\n",
       "    }\n",
       "\n",
       "    .dataframe tbody tr th {\n",
       "        vertical-align: top;\n",
       "    }\n",
       "\n",
       "    .dataframe thead th {\n",
       "        text-align: right;\n",
       "    }\n",
       "</style>\n",
       "<table border=\"1\" class=\"dataframe\">\n",
       "  <thead>\n",
       "    <tr style=\"text-align: right;\">\n",
       "      <th></th>\n",
       "      <th>Region</th>\n",
       "      <th>Country</th>\n",
       "      <th>Item_Type</th>\n",
       "      <th>Sales_Channel</th>\n",
       "      <th>Order_Priority</th>\n",
       "      <th>Ship_Date</th>\n",
       "      <th>Unit_Cost</th>\n",
       "      <th>Total_Revenue</th>\n",
       "      <th>Total_Profit</th>\n",
       "    </tr>\n",
       "  </thead>\n",
       "  <tbody>\n",
       "    <tr>\n",
       "      <th>36</th>\n",
       "      <td>Middle East and North Africa</td>\n",
       "      <td>Syria</td>\n",
       "      <td>Fruits</td>\n",
       "      <td>Online</td>\n",
       "      <td>L</td>\n",
       "      <td>12/03/2011</td>\n",
       "      <td>6.92</td>\n",
       "      <td>35304.72</td>\n",
       "      <td>9119.44</td>\n",
       "    </tr>\n",
       "    <tr>\n",
       "      <th>37</th>\n",
       "      <td>Sub_Saharan Africa</td>\n",
       "      <td>The Gambia</td>\n",
       "      <td>Meat</td>\n",
       "      <td>Online</td>\n",
       "      <td>M</td>\n",
       "      <td>23/01/2017</td>\n",
       "      <td>364.69</td>\n",
       "      <td>2011149.63</td>\n",
       "      <td>272672.40</td>\n",
       "    </tr>\n",
       "    <tr>\n",
       "      <th>10</th>\n",
       "      <td>Asia</td>\n",
       "      <td>Kyrgyzstan</td>\n",
       "      <td>Vegetables</td>\n",
       "      <td>Online</td>\n",
       "      <td>H</td>\n",
       "      <td>07/12/2011</td>\n",
       "      <td>90.93</td>\n",
       "      <td>19103.44</td>\n",
       "      <td>7828.12</td>\n",
       "    </tr>\n",
       "    <tr>\n",
       "      <th>62</th>\n",
       "      <td>Sub_Saharan Africa</td>\n",
       "      <td>Cameroon</td>\n",
       "      <td>Office Supplies</td>\n",
       "      <td>Online</td>\n",
       "      <td>M</td>\n",
       "      <td>15/11/2011</td>\n",
       "      <td>524.96</td>\n",
       "      <td>3593376.78</td>\n",
       "      <td>696647.50</td>\n",
       "    </tr>\n",
       "    <tr>\n",
       "      <th>77</th>\n",
       "      <td>Asia</td>\n",
       "      <td>Laos</td>\n",
       "      <td>Vegetables</td>\n",
       "      <td>Offline</td>\n",
       "      <td>C</td>\n",
       "      <td>23/10/2011</td>\n",
       "      <td>90.93</td>\n",
       "      <td>574951.92</td>\n",
       "      <td>235601.16</td>\n",
       "    </tr>\n",
       "  </tbody>\n",
       "</table>\n",
       "</div>"
      ],
      "text/plain": [
       "                          Region     Country        Item_Type Sales_Channel  \\\n",
       "36  Middle East and North Africa       Syria           Fruits        Online   \n",
       "37            Sub_Saharan Africa  The Gambia             Meat        Online   \n",
       "10                          Asia  Kyrgyzstan       Vegetables        Online   \n",
       "62            Sub_Saharan Africa    Cameroon  Office Supplies        Online   \n",
       "77                          Asia        Laos       Vegetables       Offline   \n",
       "\n",
       "   Order_Priority   Ship_Date  Unit_Cost  Total_Revenue  Total_Profit  \n",
       "36              L  12/03/2011       6.92       35304.72       9119.44  \n",
       "37              M  23/01/2017     364.69     2011149.63     272672.40  \n",
       "10              H  07/12/2011      90.93       19103.44       7828.12  \n",
       "62              M  15/11/2011     524.96     3593376.78     696647.50  \n",
       "77              C  23/10/2011      90.93      574951.92     235601.16  "
      ]
     },
     "execution_count": 4,
     "metadata": {},
     "output_type": "execute_result"
    }
   ],
   "source": [
    "df = df.drop(columns=[\"Unnamed: 9\", \"Unnamed: 10\"], axis=1)\n",
    "df.sample(5)"
   ]
  },
  {
   "cell_type": "code",
   "execution_count": 5,
   "id": "a08379d0",
   "metadata": {},
   "outputs": [
    {
     "name": "stdout",
     "output_type": "stream",
     "text": [
      "<class 'pandas.core.frame.DataFrame'>\n",
      "RangeIndex: 100 entries, 0 to 99\n",
      "Data columns (total 9 columns):\n",
      " #   Column          Non-Null Count  Dtype  \n",
      "---  ------          --------------  -----  \n",
      " 0   Region          100 non-null    object \n",
      " 1   Country         100 non-null    object \n",
      " 2   Item_Type       100 non-null    object \n",
      " 3   Sales_Channel   100 non-null    object \n",
      " 4   Order_Priority  100 non-null    object \n",
      " 5   Ship_Date       100 non-null    object \n",
      " 6   Unit_Cost       100 non-null    float64\n",
      " 7   Total_Revenue   100 non-null    float64\n",
      " 8   Total_Profit    100 non-null    float64\n",
      "dtypes: float64(3), object(6)\n",
      "memory usage: 7.2+ KB\n"
     ]
    }
   ],
   "source": [
    "df.info()"
   ]
  },
  {
   "cell_type": "code",
   "execution_count": 6,
   "id": "ed9ebcef",
   "metadata": {},
   "outputs": [
    {
     "name": "stdout",
     "output_type": "stream",
     "text": [
      "<class 'pandas.core.frame.DataFrame'>\n",
      "RangeIndex: 100 entries, 0 to 99\n",
      "Data columns (total 9 columns):\n",
      " #   Column          Non-Null Count  Dtype         \n",
      "---  ------          --------------  -----         \n",
      " 0   Region          100 non-null    object        \n",
      " 1   Country         100 non-null    object        \n",
      " 2   Item_Type       100 non-null    object        \n",
      " 3   Sales_Channel   100 non-null    object        \n",
      " 4   Order_Priority  100 non-null    object        \n",
      " 5   Ship_Date       100 non-null    datetime64[ns]\n",
      " 6   Unit_Cost       100 non-null    float64       \n",
      " 7   Total_Revenue   100 non-null    float64       \n",
      " 8   Total_Profit    100 non-null    float64       \n",
      "dtypes: datetime64[ns](1), float64(3), object(5)\n",
      "memory usage: 7.2+ KB\n"
     ]
    }
   ],
   "source": [
    "# Converting String to Date Data-type\n",
    "df[\"Ship_Date\"] = pd.to_datetime(df[\"Ship_Date\"], format=\"%d/%m/%Y\")\n",
    "df.info()"
   ]
  },
  {
   "cell_type": "code",
   "execution_count": 7,
   "id": "130112e1",
   "metadata": {},
   "outputs": [],
   "source": [
    "import ipywidgets as widgets\n",
    "from ipywidgets import interact\n",
    "import matplotlib.pyplot as plt"
   ]
  },
  {
   "cell_type": "code",
   "execution_count": 12,
   "id": "6dd0ee67",
   "metadata": {},
   "outputs": [
    {
     "data": {
      "application/vnd.jupyter.widget-view+json": {
       "model_id": "f7f6b09771b947f2becc1b01b3789fea",
       "version_major": 2,
       "version_minor": 0
      },
      "text/plain": [
       "interactive(children=(Dropdown(description='Region:', options=('Australia and Oceania', 'Central America and t…"
      ]
     },
     "metadata": {},
     "output_type": "display_data"
    },
    {
     "data": {
      "text/plain": [
       "<function __main__.display_filtered_data(region, item_type, sales_channel)>"
      ]
     },
     "execution_count": 12,
     "metadata": {},
     "output_type": "execute_result"
    }
   ],
   "source": [
    "# Filtering and Getting Desired Data\n",
    "def display_filtered_data(region, item_type, sales_channel):\n",
    "    filtered_df = df[\n",
    "        (df[\"Region\"] == region) &\n",
    "        (df[\"Item_Type\"] == item_type) &\n",
    "        (df[\"Sales_Channel\"] == sales_channel)\n",
    "    ]\n",
    "    display(filtered_df)\n",
    "    print(f\"Total Profit for filtered data: {filtered_df['Total_Profit'].sum():,.2f}\")\n",
    "    print(f\"Total Profit for filtered data: {filtered_df['Total_Revenue'].sum():,.2f}\")\n",
    "    \n",
    "region_dropdown = widgets.Dropdown(options=df[\"Region\"].unique(), description=\"Region:\")\n",
    "item_dropdown = widgets.Dropdown(options=df[\"Item_Type\"].unique(), description=\"Item Type:\")\n",
    "channel_dropdown = widgets.Dropdown(options=df[\"Sales_Channel\"].unique(), description=\"Channel:\")\n",
    "\n",
    "interact(display_filtered_data, region=region_dropdown, item_type=item_dropdown, sales_channel=channel_dropdown)"
   ]
  },
  {
   "cell_type": "code",
   "execution_count": 9,
   "id": "d5f8e8e8",
   "metadata": {},
   "outputs": [
    {
     "data": {
      "application/vnd.jupyter.widget-view+json": {
       "model_id": "bc6fe35f658e471f928ba9b1ea619bdb",
       "version_major": 2,
       "version_minor": 0
      },
      "text/plain": [
       "interactive(children=(Dropdown(description='Region:', options=(None, 'Australia and Oceania', 'Central America…"
      ]
     },
     "metadata": {},
     "output_type": "display_data"
    }
   ],
   "source": [
    "# Bar graph according to region\n",
    "def plot_profit_by_region(region=None):\n",
    "    if region:\n",
    "        filtered_df = df[df['Region'] == region]\n",
    "    else:\n",
    "        filtered_df = df\n",
    "    \n",
    "    profit_by_country = filtered_df.groupby('Country')['Total_Profit'].sum().sort_values(ascending=False)\n",
    "    plt.figure(figsize=(20, 6))\n",
    "    profit_by_country.plot(kind='bar', color='blue')\n",
    "    plt.title(f\"Total Profit by Country {'for ' + region if region else ''}\")\n",
    "    plt.xlabel('Country')\n",
    "    plt.ylabel('Total Profit')\n",
    "    plt.xticks(rotation=90)\n",
    "    plt.show()\n",
    "\n",
    "region_selector = widgets.Dropdown(options=[None] + list(df['Region'].unique()), description=\"Region:\")\n",
    "\n",
    "interact(plot_profit_by_region, region=region_selector);"
   ]
  },
  {
   "cell_type": "code",
   "execution_count": 10,
   "id": "f770791e",
   "metadata": {},
   "outputs": [
    {
     "data": {
      "application/vnd.jupyter.widget-view+json": {
       "model_id": "61249585517f44caa09df05138d4f85c",
       "version_major": 2,
       "version_minor": 0
      },
      "text/plain": [
       "interactive(children=(FloatRangeSlider(value=(0.0, 600.0), description='Unit Cost:', max=600.0, step=10.0), Ou…"
      ]
     },
     "metadata": {},
     "output_type": "display_data"
    }
   ],
   "source": [
    "# \n",
    "def plot_profit_vs_revenue(cost_range):\n",
    "    min_cost, max_cost = cost_range\n",
    "    \n",
    "    filtered_df = df[(df['Unit_Cost'] >= min_cost) & (df['Unit_Cost'] <= max_cost)]\n",
    "    \n",
    "    plt.figure(figsize=(10, 6))\n",
    "    plt.scatter(filtered_df['Total_Revenue'], filtered_df['Total_Profit'], c='red')\n",
    "    plt.title(f\"Total Revenue vs Total Profit (Unit Cost: {min_cost}-{max_cost})\")\n",
    "    plt.xlabel('Total Revenue')\n",
    "    plt.ylabel('Total Profit')\n",
    "    plt.grid(True)\n",
    "    plt.show()\n",
    "\n",
    "cost_slider = widgets.FloatRangeSlider(value=[0, 600], min=0, max=600, step=10, description='Unit Cost:')\n",
    "\n",
    "interact(plot_profit_vs_revenue, cost_range=cost_slider);"
   ]
  },
  {
   "cell_type": "code",
   "execution_count": null,
   "id": "210ffdba",
   "metadata": {},
   "outputs": [],
   "source": []
  }
 ],
 "metadata": {
  "kernelspec": {
   "display_name": "Python 3 (ipykernel)",
   "language": "python",
   "name": "python3"
  },
  "language_info": {
   "codemirror_mode": {
    "name": "ipython",
    "version": 3
   },
   "file_extension": ".py",
   "mimetype": "text/x-python",
   "name": "python",
   "nbconvert_exporter": "python",
   "pygments_lexer": "ipython3",
   "version": "3.11.5"
  }
 },
 "nbformat": 4,
 "nbformat_minor": 5
}
